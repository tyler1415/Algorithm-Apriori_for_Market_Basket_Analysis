{
 "cells": [
  {
   "cell_type": "markdown",
   "id": "a660341a-c8bc-4c48-bb55-43c5d6102f9c",
   "metadata": {},
   "source": [
    "Import Libraries"
   ]
  },
  {
   "cell_type": "code",
   "execution_count": 75,
   "id": "8ad95f49-f705-4133-b552-b0f1f4631e7d",
   "metadata": {},
   "outputs": [],
   "source": [
    "import pandas as pd\n",
    "import numpy as np\n",
    "# !pip install mlxtend\n",
    "from mlxtend.preprocessing import TransactionEncoder\n",
    "from mlxtend.frequent_patterns import apriori, association_rules\n"
   ]
  },
  {
   "cell_type": "markdown",
   "id": "a079f001-5fa4-4a6c-8eea-692ed5a1832f",
   "metadata": {},
   "source": [
    "Import Data"
   ]
  },
  {
   "cell_type": "code",
   "execution_count": 76,
   "id": "ce3c2c10-1b2a-4f21-bc7a-4b12412a019b",
   "metadata": {},
   "outputs": [
    {
     "data": {
      "text/html": [
       "<div>\n",
       "<style scoped>\n",
       "    .dataframe tbody tr th:only-of-type {\n",
       "        vertical-align: middle;\n",
       "    }\n",
       "\n",
       "    .dataframe tbody tr th {\n",
       "        vertical-align: top;\n",
       "    }\n",
       "\n",
       "    .dataframe thead th {\n",
       "        text-align: right;\n",
       "    }\n",
       "</style>\n",
       "<table border=\"1\" class=\"dataframe\">\n",
       "  <thead>\n",
       "    <tr style=\"text-align: right;\">\n",
       "      <th></th>\n",
       "      <th>Member_number</th>\n",
       "      <th>Date</th>\n",
       "      <th>itemDescription</th>\n",
       "      <th>year</th>\n",
       "      <th>month</th>\n",
       "      <th>day</th>\n",
       "      <th>day_of_week</th>\n",
       "    </tr>\n",
       "  </thead>\n",
       "  <tbody>\n",
       "    <tr>\n",
       "      <th>0</th>\n",
       "      <td>1064</td>\n",
       "      <td>7/11/2023</td>\n",
       "      <td>apples</td>\n",
       "      <td>2023</td>\n",
       "      <td>7</td>\n",
       "      <td>11</td>\n",
       "      <td>1</td>\n",
       "    </tr>\n",
       "    <tr>\n",
       "      <th>1</th>\n",
       "      <td>1064</td>\n",
       "      <td>7/11/2023</td>\n",
       "      <td>butter</td>\n",
       "      <td>2023</td>\n",
       "      <td>7</td>\n",
       "      <td>11</td>\n",
       "      <td>1</td>\n",
       "    </tr>\n",
       "    <tr>\n",
       "      <th>2</th>\n",
       "      <td>1064</td>\n",
       "      <td>7/11/2023</td>\n",
       "      <td>cereal</td>\n",
       "      <td>2023</td>\n",
       "      <td>7</td>\n",
       "      <td>11</td>\n",
       "      <td>1</td>\n",
       "    </tr>\n",
       "    <tr>\n",
       "      <th>3</th>\n",
       "      <td>1028</td>\n",
       "      <td>1/15/2023</td>\n",
       "      <td>spinach</td>\n",
       "      <td>2023</td>\n",
       "      <td>1</td>\n",
       "      <td>15</td>\n",
       "      <td>6</td>\n",
       "    </tr>\n",
       "    <tr>\n",
       "      <th>4</th>\n",
       "      <td>1028</td>\n",
       "      <td>1/15/2023</td>\n",
       "      <td>butter</td>\n",
       "      <td>2023</td>\n",
       "      <td>1</td>\n",
       "      <td>15</td>\n",
       "      <td>6</td>\n",
       "    </tr>\n",
       "  </tbody>\n",
       "</table>\n",
       "</div>"
      ],
      "text/plain": [
       "   Member_number       Date itemDescription  year  month  day  day_of_week\n",
       "0           1064  7/11/2023          apples  2023      7   11            1\n",
       "1           1064  7/11/2023          butter  2023      7   11            1\n",
       "2           1064  7/11/2023          cereal  2023      7   11            1\n",
       "3           1028  1/15/2023         spinach  2023      1   15            6\n",
       "4           1028  1/15/2023          butter  2023      1   15            6"
      ]
     },
     "execution_count": 76,
     "metadata": {},
     "output_type": "execute_result"
    }
   ],
   "source": [
    "df = pd.read_csv('Market_Basket_Analysis/Groceries.csv')\n",
    "df.head()\n"
   ]
  },
  {
   "cell_type": "markdown",
   "id": "43201753-2491-47ea-9bb1-adfab9487d30",
   "metadata": {},
   "source": [
    "Clean Data"
   ]
  },
  {
   "cell_type": "code",
   "execution_count": 77,
   "id": "9d6e1d51-a2d4-45f3-ba3b-cbc47f3c9f0a",
   "metadata": {},
   "outputs": [
    {
     "data": {
      "text/plain": [
       "Member_number      0\n",
       "Date               0\n",
       "itemDescription    0\n",
       "year               0\n",
       "month              0\n",
       "day                0\n",
       "day_of_week        0\n",
       "dtype: int64"
      ]
     },
     "execution_count": 77,
     "metadata": {},
     "output_type": "execute_result"
    }
   ],
   "source": [
    "# No missing data\n",
    "df.isnull().sum()\n"
   ]
  },
  {
   "cell_type": "markdown",
   "id": "bad88d8b-07b4-4df7-807a-418b1204ec59",
   "metadata": {},
   "source": [
    "Transform data"
   ]
  },
  {
   "cell_type": "code",
   "execution_count": 79,
   "id": "2ce27966-8961-4bf8-8496-293ac4dd6ab7",
   "metadata": {},
   "outputs": [],
   "source": [
    "# Create Primary key for transactions\n",
    "transactions = (\n",
    "    df.groupby(['Member_number', 'Date'])['itemDescription']\n",
    "    .apply(list)\n",
    "    .tolist()\n",
    ")\n",
    "\n",
    "# One-hot encode the transactions\n",
    "te = TransactionEncoder()\n",
    "te_ary = te.fit(transactions).transform(transactions)\n",
    "df_encoded = pd.DataFrame(te_ary, columns=te.columns_)\n"
   ]
  },
  {
   "cell_type": "markdown",
   "id": "9d8dd9f0-8a5c-4e28-9c3f-741fe6619fbf",
   "metadata": {},
   "source": [
    "Perform Market Basket Analysis"
   ]
  },
  {
   "cell_type": "code",
   "execution_count": 80,
   "id": "e90e6211-b665-4c1a-b5f4-d88dede1f05a",
   "metadata": {},
   "outputs": [
    {
     "name": "stdout",
     "output_type": "stream",
     "text": [
      "            antecedents consequents   support  confidence      lift\n",
      "67      (bread, cereal)       (jam)  0.025208    0.363077  1.230676\n",
      "29    (apples, spinach)   (chicken)  0.024354    0.331395  1.223392\n",
      "23      (apples, pasta)    (cheese)  0.024995    0.334286  1.220586\n",
      "108     (butter, pasta)   (spinach)  0.025636    0.336134  1.217837\n",
      "49      (butter, beans)   (oranges)  0.025636    0.338983  1.211282\n",
      "116       (cheese, jam)    (cereal)  0.025422    0.319892  1.188426\n",
      "62        (rice, beans)   (oranges)  0.024995    0.332386  1.187710\n",
      "178       (jam, yogurt)   (oranges)  0.026704    0.328084  1.172337\n",
      "165        (rice, eggs)   (oranges)  0.022431    0.327103  1.168831\n",
      "57         (beans, jam)   (oranges)  0.026063    0.326203  1.165616\n",
      "109   (butter, spinach)     (pasta)  0.025636    0.326975  1.161284\n",
      "141     (pasta, yogurt)    (cheese)  0.024995    0.316216  1.154609\n",
      "140    (cheese, yogurt)     (pasta)  0.024995    0.325000  1.154268\n",
      "47    (oranges, butter)     (beans)  0.025636    0.323450  1.154017\n",
      "148  (oranges, chicken)      (rice)  0.023072    0.318584  1.153358\n",
      "134       (cheese, jam)      (eggs)  0.023927    0.301075  1.152358\n",
      "187    (oranges, pasta)      (rice)  0.025208    0.318059  1.151458\n",
      "186     (oranges, rice)     (pasta)  0.025208    0.324176  1.151341\n",
      "117       (cereal, jam)    (cheese)  0.025422    0.314815  1.149492\n",
      "92     (butter, cheese)      (rice)  0.022858    0.317507  1.149460\n",
      "119     (pasta, cereal)    (cheese)  0.022858    0.314706  1.149094\n",
      "123      (milk, cereal)   (chicken)  0.022645    0.310850  1.147548\n",
      "60      (oranges, rice)     (beans)  0.024995    0.321429  1.146804\n",
      "188       (rice, pasta)   (oranges)  0.025208    0.320652  1.145781\n",
      "6       (apples, bread)    (cheese)  0.024781    0.313514  1.144740\n"
     ]
    }
   ],
   "source": [
    "# Frequent itemsets\n",
    "frequent_itemsets = apriori(df_encoded, min_support=0.01, use_colnames=True)\n",
    "\n",
    "# Association rule thresholds\n",
    "rules = rules[\n",
    "    (rules['lift'] > 1.1) &                        # stronger chance than random\n",
    "    (rules['confidence'] >= 0.3) &                 # At least 30%+ chance of follow-up purchase (consequent)\n",
    "    (rules['support'] >= 0.01)                     # seen in at least 1% of all transactions\n",
    "]\n",
    "\n",
    "# Remove overly generic items (e.g., \"milk\", \"bread\") \n",
    "generic_items = ['milk', 'whole milk', 'bread', 'soda']\n",
    "rules = rules[~rules['consequents'].astype(str).str.contains('|'.join(generic_items))]\n",
    "\n",
    "# Show all rows (no truncation)\n",
    "pd.set_option('display.max_rows', None)\n",
    "\n",
    "# Display top 25 rules ordered by lift\n",
    "top_25 = rules[['antecedents', 'consequents', 'support', 'confidence', 'lift']].head(25)\n",
    "print(top_25[['antecedents', 'consequents', 'support', 'confidence', 'lift']].sort_values(by='lift', ascending=False))\n"
   ]
  },
  {
   "cell_type": "markdown",
   "id": "ecce33a3-7a7f-4ad3-a48c-ec52c5d7bfea",
   "metadata": {},
   "source": [
    "Refer to the report to view the analysis tied to this notebook"
   ]
  }
 ],
 "metadata": {
  "kernelspec": {
   "display_name": "anaconda-panel-2023.05-py310",
   "language": "python",
   "name": "conda-env-anaconda-panel-2023.05-py310-py"
  },
  "language_info": {
   "codemirror_mode": {
    "name": "ipython",
    "version": 3
   },
   "file_extension": ".py",
   "mimetype": "text/x-python",
   "name": "python",
   "nbconvert_exporter": "python",
   "pygments_lexer": "ipython3",
   "version": "3.11.5"
  }
 },
 "nbformat": 4,
 "nbformat_minor": 5
}
